{
 "cells": [
  {
   "cell_type": "markdown",
   "id": "f374e086",
   "metadata": {},
   "source": [
    "### Ref\n",
    "- https://dslyh01.tistory.com/ \n",
    "- https://assaeunji.github.io/python/2022-03-26-pyspark/\n",
    "\n",
    "\n",
    "\n",
    "### Spark 설치\n",
    "\n",
    "- 1. Java 설치 : https://www.oracle.com/java/technologies/downloads/#java11\n",
    "- 2. Spark 3.0 설치 : https://www.apache.org/dyn/closer.lua/spark/spark-3.0.1/spark-3.0.1-bin-hadoop2.7.tgz\n",
    "- 3. Hadoop 설치 : https://github.com/cdarlint/winutils/blob/master/hadoop-2.7.7/bin/winutils.exe\n",
    "- 4. 환경변수 설정을 위한 경로 설정\n",
    "  - 1) C:\\Spark 에서 압축 해제\n",
    "  - 2) C:\\Hadoop\\bin 으로 winutils(Hadoop 파일) 이동\n",
    "  - 3) 사용자 변수에 HADOOP_HOME, SPARK_HOME 추가\n",
    "  - 4) 사용자 변수 Path - 편집 - %SPARK_HOME%\\bin / %HADOOP_HOME%\\bin 추가\n",
    "  - 5) 시스템 변수에 JAVA_HOME 추가 (KoNLPy 설치에서 추가 완료)\n",
    "- 5. pip install pyspark\n",
    "- 6. pyspark 로 실행 확인\n",
    "- 7. pip install findspark\n",
    "\n",
    "#### 기타 사항\n",
    "- import findspark ; findspark.init()을 통해 pyspark 임포트 오류 해결 가능\n",
    "- 반드시 import findspark ; findspark.init() 코드가 import pyspark보다 선행 필요\n",
    "\n",
    "\n",
    "\n",
    "### Spark Workflow\n",
    "- 1. User : Spark 실행 (PySpark 코드 실행)\n",
    "- 2. Driver Node : 드라이버 프로그램이 클러스터 관리자와 협력하여 리소스 할당\n",
    "- 3. Cluster Manager : 리소스가 할당되면 작업은 실행을 위해 워커 노드로 전송\n",
    "- 4. Worker Node : 로컬에서 데이터를 처리하고 결과를 다시 드라이버 노드로 전송\n",
    "- 5. Driver Node : 작업 완료 후 결과를 유저에 반환\n",
    "\n",
    "\n",
    "\n",
    "### Spark 특징\n",
    "- 인메모리 컴퓨팅 : 중간 데이터를 메모리(RAM)에 저장하여 I/O 시간 감소\n",
    "- 최적화된 실행 계획 : 카탈리스트 옵티마이저를 통해 작업 실행 방법을 지능적으로 계획하여 중복 작업 최소화\n",
    "- 지연 평가 : Spark의 작업은 느리게 평가되므로 변환이 즉시 실행되지 않는 대신, 논리적 실행 계획을 수립하고 작업(예를 들면 count 또는 saveAsTextFile 등)이 호출될 때만 작동하므로 Workflow 최적화 가능\n",
    "- 병렬 처리: 데이터를 여러 청크로 분할하고 여러 노드에서 동시에(여러 작업을 동시에) 분할된 청크를 처리 가능\n",
    "- 데이터 셔플링 감소 : 데이터 셔플링(파티션 간에 데이터를 재분배하는 작업)은 비용이 많이 드는 작업이지만 Spark는 불필요한 셔플을 최소화하여 성능 향상"
   ]
  },
  {
   "cell_type": "code",
   "execution_count": 1,
   "id": "66ed512e",
   "metadata": {},
   "outputs": [],
   "source": [
    "import findspark\n",
    "findspark.init() "
   ]
  },
  {
   "cell_type": "code",
   "execution_count": 2,
   "id": "36f93841",
   "metadata": {},
   "outputs": [],
   "source": [
    "import pyspark\n",
    "from pyspark.sql import SparkSession"
   ]
  },
  {
   "cell_type": "code",
   "execution_count": 3,
   "id": "e42ae453",
   "metadata": {},
   "outputs": [],
   "source": [
    "# 스파크 세션 생성\n",
    "spark = SparkSession.builder.master('local').appName('SparkSQL').getOrCreate()\n",
    "\n",
    "# 로그 레벨 정의\n",
    "spark.sparkContext.setLogLevel('ERROR')"
   ]
  },
  {
   "cell_type": "code",
   "execution_count": 4,
   "id": "6105fc41",
   "metadata": {},
   "outputs": [],
   "source": [
    "# Example\n",
    "data = [('001','Smith','M',40,'DA',4000),\n",
    "        ('002','Rose','M',35,'DA',3000),\n",
    "        ('003','Williams','M',30,'DE',2500),\n",
    "        ('004','Anne','F',30,'DE',3000),\n",
    "        ('005','Mary','F',35,'BE',4000),\n",
    "        ('006','James','M',30,'FE',3500)]\n",
    "\n",
    "columns = [\"cd\",\"name\",\"gender\",\"age\",\"div\",\"salary\"]\n",
    "\n",
    "# Spark의 DataFrame 생성\n",
    "df = spark.createDataFrame(data = data, schema = columns)"
   ]
  },
  {
   "cell_type": "code",
   "execution_count": 5,
   "id": "61110655",
   "metadata": {},
   "outputs": [
    {
     "name": "stdout",
     "output_type": "stream",
     "text": [
      "root\n",
      " |-- cd: string (nullable = true)\n",
      " |-- name: string (nullable = true)\n",
      " |-- gender: string (nullable = true)\n",
      " |-- age: long (nullable = true)\n",
      " |-- div: string (nullable = true)\n",
      " |-- salary: long (nullable = true)\n",
      "\n"
     ]
    }
   ],
   "source": [
    "# 스키마 출력\n",
    "df.printSchema()"
   ]
  },
  {
   "cell_type": "code",
   "execution_count": 6,
   "id": "190b4d16",
   "metadata": {},
   "outputs": [
    {
     "name": "stdout",
     "output_type": "stream",
     "text": [
      "+---+--------+------+---+---+------+\n",
      "| cd|    name|gender|age|div|salary|\n",
      "+---+--------+------+---+---+------+\n",
      "|001|   Smith|     M| 40| DA|  4000|\n",
      "|002|    Rose|     M| 35| DA|  3000|\n",
      "|003|Williams|     M| 30| DE|  2500|\n",
      "|004|    Anne|     F| 30| DE|  3000|\n",
      "|005|    Mary|     F| 35| BE|  4000|\n",
      "|006|   James|     M| 30| FE|  3500|\n",
      "+---+--------+------+---+---+------+\n",
      "\n"
     ]
    }
   ],
   "source": [
    "# DataFrame 출력\n",
    "df.show()"
   ]
  },
  {
   "cell_type": "code",
   "execution_count": 7,
   "id": "b4ff2cc7",
   "metadata": {},
   "outputs": [],
   "source": [
    "df.createOrReplaceTempView(\"EMP_INFO\") # 테이블 이름 지정"
   ]
  },
  {
   "cell_type": "code",
   "execution_count": 8,
   "id": "6adff95b",
   "metadata": {},
   "outputs": [
    {
     "name": "stdout",
     "output_type": "stream",
     "text": [
      "+---+--------+------+---+------+\n",
      "| cd|    name|gender|div|salary|\n",
      "+---+--------+------+---+------+\n",
      "|001|   Smith|     M| DA|  4000|\n",
      "|002|    Rose|     M| DA|  3000|\n",
      "|003|Williams|     M| DE|  2500|\n",
      "|004|    Anne|     F| DE|  3000|\n",
      "|005|    Mary|     F| BE|  4000|\n",
      "|006|   James|     M| FE|  3500|\n",
      "+---+--------+------+---+------+\n",
      "\n"
     ]
    }
   ],
   "source": [
    "# SQL 구문 활용 조회\n",
    "spark.sql(\"select cd, name, gender, div, salary from emp_info\").show()"
   ]
  },
  {
   "cell_type": "code",
   "execution_count": 9,
   "id": "96e2be51",
   "metadata": {},
   "outputs": [
    {
     "name": "stdout",
     "output_type": "stream",
     "text": [
      "+---+----+------+---+---+------+\n",
      "| cd|name|gender|age|div|salary|\n",
      "+---+----+------+---+---+------+\n",
      "|004|Anne|     F| 30| DE|  3000|\n",
      "|005|Mary|     F| 35| BE|  4000|\n",
      "+---+----+------+---+---+------+\n",
      "\n"
     ]
    }
   ],
   "source": [
    "# PySpark 함수 활용 조회\n",
    "df.filter(\"gender == 'F'\").show()"
   ]
  },
  {
   "cell_type": "code",
   "execution_count": 10,
   "id": "c44cef87",
   "metadata": {},
   "outputs": [
    {
     "name": "stdout",
     "output_type": "stream",
     "text": [
      "+---+-----+------+---+---+------+\n",
      "| cd| name|gender|age|div|salary|\n",
      "+---+-----+------+---+---+------+\n",
      "|001|Smith|     M| 40| DA|  4000|\n",
      "+---+-----+------+---+---+------+\n",
      "\n"
     ]
    }
   ],
   "source": [
    "from pyspark.sql import functions as F\n",
    "\n",
    "# 여러 조건 활용 가능\n",
    "df.filter((F.col('div') == 'DA') & (F.col('salary') > 3500)).show()"
   ]
  },
  {
   "cell_type": "code",
   "execution_count": 11,
   "id": "15eb9e1a",
   "metadata": {},
   "outputs": [
    {
     "data": {
      "text/plain": [
       "1"
      ]
     },
     "execution_count": 11,
     "metadata": {},
     "output_type": "execute_result"
    }
   ],
   "source": [
    "# 카운트\n",
    "df.filter((F.col('div') == 'DA') & (F.col('salary') > 3500)).count()"
   ]
  },
  {
   "cell_type": "code",
   "execution_count": 12,
   "id": "0d35a2f9",
   "metadata": {},
   "outputs": [
    {
     "name": "stdout",
     "output_type": "stream",
     "text": [
      "+---+-----+\n",
      "|div|count|\n",
      "+---+-----+\n",
      "| DE|    2|\n",
      "| DA|    2|\n",
      "| FE|    1|\n",
      "| BE|    1|\n",
      "+---+-----+\n",
      "\n"
     ]
    }
   ],
   "source": [
    "# Group By\n",
    "df.groupby('div').count().show()"
   ]
  },
  {
   "cell_type": "code",
   "execution_count": 13,
   "id": "27ddc722",
   "metadata": {},
   "outputs": [
    {
     "name": "stdout",
     "output_type": "stream",
     "text": [
      "+---+-----+\n",
      "|div|count|\n",
      "+---+-----+\n",
      "| FE|    1|\n",
      "| BE|    1|\n",
      "| DE|    2|\n",
      "| DA|    2|\n",
      "+---+-----+\n",
      "\n"
     ]
    }
   ],
   "source": [
    "# Order By = Sort\n",
    "df.groupby('div').count().sort('count', ascending=True).show()"
   ]
  },
  {
   "cell_type": "code",
   "execution_count": 14,
   "id": "6fbaa8b5",
   "metadata": {},
   "outputs": [
    {
     "data": {
      "text/html": [
       "<div>\n",
       "<style scoped>\n",
       "    .dataframe tbody tr th:only-of-type {\n",
       "        vertical-align: middle;\n",
       "    }\n",
       "\n",
       "    .dataframe tbody tr th {\n",
       "        vertical-align: top;\n",
       "    }\n",
       "\n",
       "    .dataframe thead th {\n",
       "        text-align: right;\n",
       "    }\n",
       "</style>\n",
       "<table border=\"1\" class=\"dataframe\">\n",
       "  <thead>\n",
       "    <tr style=\"text-align: right;\">\n",
       "      <th></th>\n",
       "      <th>div</th>\n",
       "      <th>count</th>\n",
       "    </tr>\n",
       "  </thead>\n",
       "  <tbody>\n",
       "    <tr>\n",
       "      <th>0</th>\n",
       "      <td>FE</td>\n",
       "      <td>1</td>\n",
       "    </tr>\n",
       "    <tr>\n",
       "      <th>1</th>\n",
       "      <td>BE</td>\n",
       "      <td>1</td>\n",
       "    </tr>\n",
       "    <tr>\n",
       "      <th>2</th>\n",
       "      <td>DE</td>\n",
       "      <td>2</td>\n",
       "    </tr>\n",
       "    <tr>\n",
       "      <th>3</th>\n",
       "      <td>DA</td>\n",
       "      <td>2</td>\n",
       "    </tr>\n",
       "  </tbody>\n",
       "</table>\n",
       "</div>"
      ],
      "text/plain": [
       "  div  count\n",
       "0  FE      1\n",
       "1  BE      1\n",
       "2  DE      2\n",
       "3  DA      2"
      ]
     },
     "execution_count": 14,
     "metadata": {},
     "output_type": "execute_result"
    }
   ],
   "source": [
    "# To Pandas : Pandas DataFrame으로 변형 가능\n",
    "df.groupby('div').count().sort('count', ascending=True).toPandas()"
   ]
  },
  {
   "cell_type": "code",
   "execution_count": 15,
   "id": "333966a4",
   "metadata": {},
   "outputs": [
    {
     "name": "stdout",
     "output_type": "stream",
     "text": [
      "+-------+------------------+--------+------+------------------+----+------------------+\n",
      "|summary|cd                |name    |gender|age               |div |salary            |\n",
      "+-------+------------------+--------+------+------------------+----+------------------+\n",
      "|count  |6                 |6       |6     |6                 |6   |6                 |\n",
      "|mean   |3.5               |null    |null  |33.333333333333336|null|3333.3333333333335|\n",
      "|stddev |1.8708286933869707|null    |null  |4.0824829046386295|null|605.5300708194983 |\n",
      "|min    |001               |Anne    |F     |30                |BE  |2500              |\n",
      "|max    |006               |Williams|M     |40                |FE  |4000              |\n",
      "+-------+------------------+--------+------+------------------+----+------------------+\n",
      "\n"
     ]
    }
   ],
   "source": [
    "df.describe().show(truncate=False)"
   ]
  },
  {
   "cell_type": "code",
   "execution_count": 16,
   "id": "effe4114",
   "metadata": {},
   "outputs": [
    {
     "name": "stdout",
     "output_type": "stream",
     "text": [
      "+--------+\n",
      "|    name|\n",
      "+--------+\n",
      "|   Smith|\n",
      "|    Rose|\n",
      "|Williams|\n",
      "|    Anne|\n",
      "|    Mary|\n",
      "|   James|\n",
      "+--------+\n",
      "\n"
     ]
    }
   ],
   "source": [
    "# select : 특정 컬럼만 출력\n",
    "df.select(\"name\").show()"
   ]
  },
  {
   "cell_type": "code",
   "execution_count": 17,
   "id": "7bbedb7a",
   "metadata": {},
   "outputs": [
    {
     "name": "stdout",
     "output_type": "stream",
     "text": [
      "+---+------+---+---+------+\n",
      "| cd|gender|age|div|salary|\n",
      "+---+------+---+---+------+\n",
      "|001|     M| 40| DA|  4000|\n",
      "|002|     M| 35| DA|  3000|\n",
      "|003|     M| 30| DE|  2500|\n",
      "|004|     F| 30| DE|  3000|\n",
      "|005|     F| 35| BE|  4000|\n",
      "|006|     M| 30| FE|  3500|\n",
      "+---+------+---+---+------+\n",
      "\n"
     ]
    }
   ],
   "source": [
    "# drop : 특정 컬럼 제외 출력\n",
    "df.drop(\"name\").show()"
   ]
  },
  {
   "cell_type": "code",
   "execution_count": 18,
   "id": "b0d2ea57",
   "metadata": {},
   "outputs": [
    {
     "name": "stdout",
     "output_type": "stream",
     "text": [
      "+-------------+----------------------+\n",
      "|count(gender)|count(DISTINCT gender)|\n",
      "+-------------+----------------------+\n",
      "|            6|                     2|\n",
      "+-------------+----------------------+\n",
      "\n"
     ]
    }
   ],
   "source": [
    "# count : 총 개수\n",
    "# countDistinct : 중복 제거 총 개수 = unique()\n",
    "df.select(F.count(\"gender\"), F.countDistinct(\"gender\")).show()"
   ]
  },
  {
   "cell_type": "code",
   "execution_count": 19,
   "id": "d385087a",
   "metadata": {},
   "outputs": [
    {
     "name": "stdout",
     "output_type": "stream",
     "text": [
      "+---+--------+------+---+---+------+\n",
      "| cd|    name|gender|age|div|salary|\n",
      "+---+--------+------+---+---+------+\n",
      "|001|   Smith|     M| 40| DA|  4000|\n",
      "|002|    Rose|     M| 35| DA|  3000|\n",
      "|003|Williams|     M| 30| DE|  2500|\n",
      "|004|    Anne|     F| 30| DE|  3000|\n",
      "|005|    Mary|     F| 35| BE|  4000|\n",
      "|006|   James|     M| 30| FE|  3500|\n",
      "+---+--------+------+---+---+------+\n",
      "\n"
     ]
    }
   ],
   "source": [
    "# withColumn : 컬럼 정보 수정 혹은 신규 추가\n",
    "change_type = df.withColumn(\"age\", df.age.cast(\"String\"))\n",
    "change_type.show()"
   ]
  },
  {
   "cell_type": "code",
   "execution_count": 20,
   "id": "e9b270cb",
   "metadata": {},
   "outputs": [
    {
     "name": "stdout",
     "output_type": "stream",
     "text": [
      "root\n",
      " |-- cd: string (nullable = true)\n",
      " |-- name: string (nullable = true)\n",
      " |-- gender: string (nullable = true)\n",
      " |-- age: string (nullable = true)\n",
      " |-- div: string (nullable = true)\n",
      " |-- salary: long (nullable = true)\n",
      "\n"
     ]
    }
   ],
   "source": [
    "change_type.printSchema()"
   ]
  },
  {
   "cell_type": "code",
   "execution_count": 21,
   "id": "7243a04b",
   "metadata": {},
   "outputs": [
    {
     "name": "stdout",
     "output_type": "stream",
     "text": [
      "+---+--------+------+---+---+------+-------+\n",
      "| cd|    name|gender|age|div|salary|country|\n",
      "+---+--------+------+---+---+------+-------+\n",
      "|001|   Smith|     M| 40| DA|  4000|    USA|\n",
      "|002|    Rose|     M| 35| DA|  3000|    USA|\n",
      "|003|Williams|     M| 30| DE|  2500|    USA|\n",
      "|004|    Anne|     F| 30| DE|  3000|    USA|\n",
      "|005|    Mary|     F| 35| BE|  4000|    USA|\n",
      "|006|   James|     M| 30| FE|  3500|    USA|\n",
      "+---+--------+------+---+---+------+-------+\n",
      "\n"
     ]
    }
   ],
   "source": [
    "# 컬럼 신규 추가\n",
    "# F.lit = fill\n",
    "df.withColumn(\"country\", F.lit(\"USA\")).show() "
   ]
  },
  {
   "cell_type": "code",
   "execution_count": 22,
   "id": "14095ebc",
   "metadata": {},
   "outputs": [
    {
     "name": "stdout",
     "output_type": "stream",
     "text": [
      "+---+--------+------+---+---+------+\n",
      "| cd|    name|gender|age|div|salary|\n",
      "+---+--------+------+---+---+------+\n",
      "|001|   Smith|  Male| 40| DA|  4000|\n",
      "|002|    Rose|  Male| 35| DA|  3000|\n",
      "|003|Williams|  Male| 30| DE|  2500|\n",
      "|004|    Anne|Female| 30| DE|  3000|\n",
      "|005|    Mary|Female| 35| BE|  4000|\n",
      "|006|   James|  Male| 30| FE|  3500|\n",
      "+---+--------+------+---+---+------+\n",
      "\n"
     ]
    }
   ],
   "source": [
    "# withColumn을 활용하여 CASE WHEN 구문 작성\n",
    "\n",
    "df.withColumn(\"gender\", F.when(df.gender == \"F\", \"Female\") # gender가 F일 때, Female\n",
    "              .when(df.gender==\"M\", \"Male\")                # M일 때, Male\n",
    "              .when(df.gender.isNull(), \"\")                # Null일 때, 공백\n",
    "              .otherwise(df.gender)                        # 기타의 경우 gender의 값\n",
    "              ).show()"
   ]
  },
  {
   "cell_type": "code",
   "execution_count": 23,
   "id": "df25a5c1",
   "metadata": {},
   "outputs": [
    {
     "name": "stdout",
     "output_type": "stream",
     "text": [
      "+----------------------+------------------+-----+------+\n",
      "|name                  |languages         |state|gender|\n",
      "+----------------------+------------------+-----+------+\n",
      "|[James, , Smith]      |[Java, Scala, C++]|OH   |M     |\n",
      "|[Anna, Rose, ]        |[Spark, Java, C++]|NY   |F     |\n",
      "|[Julia, , Williams]   |[CSharp, VB]      |OH   |F     |\n",
      "|[Maria, Anne, Jones]  |[CSharp, VB]      |NY   |M     |\n",
      "|[Jen, Mary, Brown]    |[CSharp, VB]      |NY   |M     |\n",
      "|[Mike, Mary, Williams]|[Python, VB]      |OH   |M     |\n",
      "+----------------------+------------------+-----+------+\n",
      "\n"
     ]
    }
   ],
   "source": [
    "# 구조 지정\n",
    "\n",
    "from pyspark.sql.types import StructType, StructField, StringType, IntegerType, ArrayType\n",
    "\n",
    "data = [\n",
    "    ((\"James\",\"\",\"Smith\"),[\"Java\",\"Scala\",\"C++\"],\"OH\",\"M\"),\n",
    "    ((\"Anna\",\"Rose\",\"\"),[\"Spark\",\"Java\",\"C++\"],\"NY\",\"F\"),\n",
    "    ((\"Julia\",\"\",\"Williams\"),[\"CSharp\",\"VB\"],\"OH\",\"F\"),\n",
    "    ((\"Maria\",\"Anne\",\"Jones\"),[\"CSharp\",\"VB\"],\"NY\",\"M\"),\n",
    "    ((\"Jen\",\"Mary\",\"Brown\"),[\"CSharp\",\"VB\"],\"NY\",\"M\"),\n",
    "    ((\"Mike\",\"Mary\",\"Williams\"),[\"Python\",\"VB\"],\"OH\",\"M\")\n",
    " ]\n",
    "        \n",
    "schema = StructType([\n",
    "     StructField('name', StructType([                          # Struct Field 내 Struct Type (Struct Field) 으로 스키마 세분화 가능\n",
    "        StructField('firstname', StringType(), True),\n",
    "        StructField('middlename', StringType(), True),\n",
    "        StructField('lastname', StringType(), True)\n",
    "     ])),\n",
    "     StructField('languages', ArrayType(StringType()), True), # ArrayType  내 타입 지정 가능\n",
    "     StructField('state', StringType(), True),\n",
    "     StructField('gender', StringType(), True)\n",
    " ])\n",
    "\n",
    "df = spark.createDataFrame(data = data, schema = schema)\n",
    "df.show(truncate=False)"
   ]
  },
  {
   "cell_type": "code",
   "execution_count": 24,
   "id": "23d08272",
   "metadata": {},
   "outputs": [
    {
     "name": "stdout",
     "output_type": "stream",
     "text": [
      "+---------+\n",
      "|firstname|\n",
      "+---------+\n",
      "|    James|\n",
      "|     Anna|\n",
      "|    Julia|\n",
      "|    Maria|\n",
      "|      Jen|\n",
      "|     Mike|\n",
      "+---------+\n",
      "\n"
     ]
    }
   ],
   "source": [
    "# 컬럼명.세부 스키마명으로 디테일하게 접근 가능\n",
    "df.select(\"name.firstname\").show()"
   ]
  },
  {
   "cell_type": "code",
   "execution_count": 25,
   "id": "5f4c380b",
   "metadata": {},
   "outputs": [
    {
     "name": "stdout",
     "output_type": "stream",
     "text": [
      "+----------+\n",
      "|middlename|\n",
      "+----------+\n",
      "|          |\n",
      "|      Rose|\n",
      "|          |\n",
      "|      Anne|\n",
      "|      Mary|\n",
      "|      Mary|\n",
      "+----------+\n",
      "\n"
     ]
    }
   ],
   "source": [
    "df.select(\"name.middlename\").show()"
   ]
  },
  {
   "cell_type": "code",
   "execution_count": 26,
   "id": "06b8e0ff",
   "metadata": {},
   "outputs": [
    {
     "name": "stdout",
     "output_type": "stream",
     "text": [
      "+--------------------+------------------+-----+------+\n",
      "|                name|         languages|state|gender|\n",
      "+--------------------+------------------+-----+------+\n",
      "|    [James, , Smith]|[Java, Scala, C++]|   OH|     M|\n",
      "|[Maria, Anne, Jones]|      [CSharp, VB]|   NY|     M|\n",
      "|  [Jen, Mary, Brown]|      [CSharp, VB]|   NY|     M|\n",
      "|[Mike, Mary, Will...|      [Python, VB]|   OH|     M|\n",
      "+--------------------+------------------+-----+------+\n",
      "\n"
     ]
    }
   ],
   "source": [
    "df.filter(df.gender == \"M\").show()  # Python Pandas 형태"
   ]
  },
  {
   "cell_type": "code",
   "execution_count": 27,
   "id": "1449e4bd",
   "metadata": {},
   "outputs": [
    {
     "name": "stdout",
     "output_type": "stream",
     "text": [
      "+--------------------+------------------+-----+------+\n",
      "|                name|         languages|state|gender|\n",
      "+--------------------+------------------+-----+------+\n",
      "|    [James, , Smith]|[Java, Scala, C++]|   OH|     M|\n",
      "|[Maria, Anne, Jones]|      [CSharp, VB]|   NY|     M|\n",
      "|  [Jen, Mary, Brown]|      [CSharp, VB]|   NY|     M|\n",
      "|[Mike, Mary, Will...|      [Python, VB]|   OH|     M|\n",
      "+--------------------+------------------+-----+------+\n",
      "\n"
     ]
    }
   ],
   "source": [
    "df.filter(\"gender = 'M'\").show()    # SQL 형태"
   ]
  },
  {
   "cell_type": "code",
   "execution_count": 28,
   "id": "f6be7860",
   "metadata": {},
   "outputs": [
    {
     "name": "stdout",
     "output_type": "stream",
     "text": [
      "+--------------------+------------------+-----+------+\n",
      "|                name|         languages|state|gender|\n",
      "+--------------------+------------------+-----+------+\n",
      "|    [James, , Smith]|[Java, Scala, C++]|   OH|     M|\n",
      "|[Maria, Anne, Jones]|      [CSharp, VB]|   NY|     M|\n",
      "|  [Jen, Mary, Brown]|      [CSharp, VB]|   NY|     M|\n",
      "|[Mike, Mary, Will...|      [Python, VB]|   OH|     M|\n",
      "+--------------------+------------------+-----+------+\n",
      "\n"
     ]
    }
   ],
   "source": [
    "df.where(df.gender == \"M\").show()   # where 동일 결과"
   ]
  },
  {
   "cell_type": "code",
   "execution_count": 29,
   "id": "23bc1a43",
   "metadata": {},
   "outputs": [
    {
     "name": "stdout",
     "output_type": "stream",
     "text": [
      "+--------------------+------------------+-----+------+\n",
      "|                name|         languages|state|gender|\n",
      "+--------------------+------------------+-----+------+\n",
      "|    [James, , Smith]|[Java, Scala, C++]|   OH|     M|\n",
      "|[Mike, Mary, Will...|      [Python, VB]|   OH|     M|\n",
      "+--------------------+------------------+-----+------+\n",
      "\n"
     ]
    }
   ],
   "source": [
    "# 여러 조건의 경우도 다각적으로 접근 가능\n",
    "\n",
    "df.filter((df.state == \"OH\") & (df.gender == \"M\")).show() # Python Pandas 형태"
   ]
  },
  {
   "cell_type": "code",
   "execution_count": 30,
   "id": "3cc282a7",
   "metadata": {},
   "outputs": [
    {
     "name": "stdout",
     "output_type": "stream",
     "text": [
      "+--------------------+------------------+-----+------+\n",
      "|                name|         languages|state|gender|\n",
      "+--------------------+------------------+-----+------+\n",
      "|    [James, , Smith]|[Java, Scala, C++]|   OH|     M|\n",
      "|[Mike, Mary, Will...|      [Python, VB]|   OH|     M|\n",
      "+--------------------+------------------+-----+------+\n",
      "\n"
     ]
    }
   ],
   "source": [
    "df.filter(\"state = 'OH' and gender = 'M'\").show()          # SQL 형태"
   ]
  },
  {
   "cell_type": "code",
   "execution_count": 41,
   "id": "0ac25eaa",
   "metadata": {
    "scrolled": true
   },
   "outputs": [
    {
     "name": "stdout",
     "output_type": "stream",
     "text": [
      "+--------------------+------------------+-----+------+\n",
      "|                name|         languages|state|gender|\n",
      "+--------------------+------------------+-----+------+\n",
      "|    [James, , Smith]|[Java, Scala, C++]|   OH|     M|\n",
      "| [Julia, , Williams]|      [CSharp, VB]|   OH|     F|\n",
      "|[Mike, Mary, Will...|      [Python, VB]|   OH|     M|\n",
      "+--------------------+------------------+-----+------+\n",
      "\n"
     ]
    }
   ],
   "source": [
    "# IN 조건\n",
    "\n",
    "df.filter(df.state.isin(\"OH\", \"CA\", \"DE\")).show()"
   ]
  },
  {
   "cell_type": "code",
   "execution_count": 42,
   "id": "d2477cd7",
   "metadata": {},
   "outputs": [
    {
     "name": "stdout",
     "output_type": "stream",
     "text": [
      "+--------------------+------------------+-----+------+\n",
      "|                name|         languages|state|gender|\n",
      "+--------------------+------------------+-----+------+\n",
      "|    [James, , Smith]|[Java, Scala, C++]|   OH|     M|\n",
      "| [Julia, , Williams]|      [CSharp, VB]|   OH|     F|\n",
      "|[Mike, Mary, Will...|      [Python, VB]|   OH|     M|\n",
      "+--------------------+------------------+-----+------+\n",
      "\n"
     ]
    }
   ],
   "source": [
    "df[df.state.isin(\"OH\", \"CA\", \"DE\")].show()"
   ]
  },
  {
   "cell_type": "code",
   "execution_count": 43,
   "id": "24a7e50d",
   "metadata": {},
   "outputs": [
    {
     "name": "stdout",
     "output_type": "stream",
     "text": [
      "+--------------------+------------------+-----+------+\n",
      "|                name|         languages|state|gender|\n",
      "+--------------------+------------------+-----+------+\n",
      "|      [Anna, Rose, ]|[Spark, Java, C++]|   NY|     F|\n",
      "|[Maria, Anne, Jones]|      [CSharp, VB]|   NY|     M|\n",
      "|  [Jen, Mary, Brown]|      [CSharp, VB]|   NY|     M|\n",
      "+--------------------+------------------+-----+------+\n",
      "\n"
     ]
    }
   ],
   "source": [
    "# NOT IN 조건\n",
    "df[ ~ df.state.isin(\"OH\", \"CA\", \"DE\")].show()"
   ]
  },
  {
   "cell_type": "code",
   "execution_count": 44,
   "id": "da5e6b72",
   "metadata": {},
   "outputs": [],
   "source": [
    "# LIKE 조건은 아래 함수를 통해 사용 가능\n",
    "\n",
    "# startswith\n",
    "# endswith\n",
    "# contains\n",
    "# like"
   ]
  },
  {
   "cell_type": "code",
   "execution_count": 45,
   "id": "f0a1b46b",
   "metadata": {},
   "outputs": [
    {
     "name": "stdout",
     "output_type": "stream",
     "text": [
      "+--------------------+------------------+-----+------+\n",
      "|                name|         languages|state|gender|\n",
      "+--------------------+------------------+-----+------+\n",
      "|      [Anna, Rose, ]|[Spark, Java, C++]|   NY|     F|\n",
      "|[Maria, Anne, Jones]|      [CSharp, VB]|   NY|     M|\n",
      "|  [Jen, Mary, Brown]|      [CSharp, VB]|   NY|     M|\n",
      "+--------------------+------------------+-----+------+\n",
      "\n"
     ]
    }
   ],
   "source": [
    "# N으로 시작\n",
    "df.filter(df.state.startswith(\"N\")).show()"
   ]
  },
  {
   "cell_type": "code",
   "execution_count": 46,
   "id": "89558c0a",
   "metadata": {},
   "outputs": [
    {
     "name": "stdout",
     "output_type": "stream",
     "text": [
      "+--------------------+------------------+-----+------+\n",
      "|                name|         languages|state|gender|\n",
      "+--------------------+------------------+-----+------+\n",
      "|      [Anna, Rose, ]|[Spark, Java, C++]|   NY|     F|\n",
      "|[Maria, Anne, Jones]|      [CSharp, VB]|   NY|     M|\n",
      "|  [Jen, Mary, Brown]|      [CSharp, VB]|   NY|     M|\n",
      "+--------------------+------------------+-----+------+\n",
      "\n"
     ]
    }
   ],
   "source": [
    "df.filter(df.state.like(\"N%\")).show()"
   ]
  },
  {
   "cell_type": "code",
   "execution_count": 47,
   "id": "0444f85c",
   "metadata": {},
   "outputs": [
    {
     "name": "stdout",
     "output_type": "stream",
     "text": [
      "+--------------------+------------------+-----+------+\n",
      "|                name|         languages|state|gender|\n",
      "+--------------------+------------------+-----+------+\n",
      "|    [James, , Smith]|[Java, Scala, C++]|   OH|     M|\n",
      "| [Julia, , Williams]|      [CSharp, VB]|   OH|     F|\n",
      "|[Mike, Mary, Will...|      [Python, VB]|   OH|     M|\n",
      "+--------------------+------------------+-----+------+\n",
      "\n"
     ]
    }
   ],
   "source": [
    "# H로 끝\n",
    "df.filter(df.state.endswith(\"H\")).show()"
   ]
  },
  {
   "cell_type": "code",
   "execution_count": 48,
   "id": "58500c78",
   "metadata": {},
   "outputs": [
    {
     "name": "stdout",
     "output_type": "stream",
     "text": [
      "+--------------------+------------------+-----+------+\n",
      "|                name|         languages|state|gender|\n",
      "+--------------------+------------------+-----+------+\n",
      "|    [James, , Smith]|[Java, Scala, C++]|   OH|     M|\n",
      "| [Julia, , Williams]|      [CSharp, VB]|   OH|     F|\n",
      "|[Mike, Mary, Will...|      [Python, VB]|   OH|     M|\n",
      "+--------------------+------------------+-----+------+\n",
      "\n"
     ]
    }
   ],
   "source": [
    "df.filter(df.state.like(\"%H\")).show()"
   ]
  },
  {
   "cell_type": "code",
   "execution_count": 50,
   "id": "5947a11c",
   "metadata": {},
   "outputs": [
    {
     "name": "stdout",
     "output_type": "stream",
     "text": [
      "+--------------------+------------------+-----+------+\n",
      "|                name|         languages|state|gender|\n",
      "+--------------------+------------------+-----+------+\n",
      "|    [James, , Smith]|[Java, Scala, C++]|   OH|     M|\n",
      "| [Julia, , Williams]|      [CSharp, VB]|   OH|     F|\n",
      "|[Mike, Mary, Will...|      [Python, VB]|   OH|     M|\n",
      "+--------------------+------------------+-----+------+\n",
      "\n"
     ]
    }
   ],
   "source": [
    "# H를 포함\n",
    "df.filter(df.state.contains(\"H\")).show()"
   ]
  },
  {
   "cell_type": "code",
   "execution_count": 51,
   "id": "9ba3d11b",
   "metadata": {},
   "outputs": [
    {
     "name": "stdout",
     "output_type": "stream",
     "text": [
      "+--------------------+------------------+-----+------+\n",
      "|                name|         languages|state|gender|\n",
      "+--------------------+------------------+-----+------+\n",
      "|    [James, , Smith]|[Java, Scala, C++]|   OH|     M|\n",
      "| [Julia, , Williams]|      [CSharp, VB]|   OH|     F|\n",
      "|[Mike, Mary, Will...|      [Python, VB]|   OH|     M|\n",
      "+--------------------+------------------+-----+------+\n",
      "\n"
     ]
    }
   ],
   "source": [
    "df.filter(df.state.like(\"%H%\")).show()"
   ]
  },
  {
   "cell_type": "code",
   "execution_count": 52,
   "id": "0d6af987",
   "metadata": {},
   "outputs": [
    {
     "name": "stdout",
     "output_type": "stream",
     "text": [
      "root\n",
      " |-- name: struct (nullable = true)\n",
      " |    |-- firstname: string (nullable = true)\n",
      " |    |-- middlename: string (nullable = true)\n",
      " |    |-- lastname: string (nullable = true)\n",
      " |-- languages: array (nullable = true)\n",
      " |    |-- element: string (containsNull = true)\n",
      " |-- state: string (nullable = true)\n",
      " |-- gender: string (nullable = true)\n",
      "\n"
     ]
    }
   ],
   "source": [
    "df.printSchema()"
   ]
  },
  {
   "cell_type": "code",
   "execution_count": 53,
   "id": "45c8fee7",
   "metadata": {},
   "outputs": [
    {
     "name": "stdout",
     "output_type": "stream",
     "text": [
      "+--------------------+------------+-----+------+\n",
      "|                name|   languages|state|gender|\n",
      "+--------------------+------------+-----+------+\n",
      "| [Julia, , Williams]|[CSharp, VB]|   OH|     F|\n",
      "|[Mike, Mary, Will...|[Python, VB]|   OH|     M|\n",
      "+--------------------+------------+-----+------+\n",
      "\n"
     ]
    }
   ],
   "source": [
    "# struct 타입 필터링 시 컬럼.세부 컬럼으로 접근\n",
    "df.filter(df.name.lastname ==\"Williams\").show()"
   ]
  },
  {
   "cell_type": "code",
   "execution_count": 55,
   "id": "4f60e1cf",
   "metadata": {},
   "outputs": [
    {
     "name": "stdout",
     "output_type": "stream",
     "text": [
      "+----------------+------------------+-----+------+\n",
      "|            name|         languages|state|gender|\n",
      "+----------------+------------------+-----+------+\n",
      "|[James, , Smith]|[Java, Scala, C++]|   OH|     M|\n",
      "|  [Anna, Rose, ]|[Spark, Java, C++]|   NY|     F|\n",
      "+----------------+------------------+-----+------+\n",
      "\n"
     ]
    }
   ],
   "source": [
    "# array 타입 필터링 시 array_contains() 함수 사용\n",
    "df.filter(F.array_contains(df.languages,'Java')).show()"
   ]
  },
  {
   "cell_type": "code",
   "execution_count": 56,
   "id": "c107070c",
   "metadata": {},
   "outputs": [
    {
     "name": "stdout",
     "output_type": "stream",
     "text": [
      "+-------------+----------+-----+------+---+-----+\n",
      "|employee_name|department|state|salary|age|bonus|\n",
      "+-------------+----------+-----+------+---+-----+\n",
      "|James        |Sales     |NY   |90000 |34 |10000|\n",
      "|Michael      |Sales     |NY   |86000 |56 |20000|\n",
      "|Robert       |Sales     |CA   |81000 |30 |23000|\n",
      "|Maria        |Finance   |CA   |90000 |24 |23000|\n",
      "|Raman        |Finance   |CA   |99000 |40 |24000|\n",
      "|Scott        |Finance   |NY   |83000 |36 |19000|\n",
      "|Jen          |Finance   |NY   |79000 |53 |15000|\n",
      "|Jeff         |Marketing |CA   |80000 |25 |18000|\n",
      "|Kumar        |Marketing |NY   |91000 |50 |21000|\n",
      "+-------------+----------+-----+------+---+-----+\n",
      "\n"
     ]
    }
   ],
   "source": [
    "simpleData = [(\"James\",\"Sales\",\"NY\",90000,34,10000),\n",
    "    (\"Michael\",\"Sales\",\"NY\",86000,56,20000),\n",
    "    (\"Robert\",\"Sales\",\"CA\",81000,30,23000),\n",
    "    (\"Maria\",\"Finance\",\"CA\",90000,24,23000),\n",
    "    (\"Raman\",\"Finance\",\"CA\",99000,40,24000),\n",
    "    (\"Scott\",\"Finance\",\"NY\",83000,36,19000),\n",
    "    (\"Jen\",\"Finance\",\"NY\",79000,53,15000),\n",
    "    (\"Jeff\",\"Marketing\",\"CA\",80000,25,18000),\n",
    "    (\"Kumar\",\"Marketing\",\"NY\",91000,50,21000)\n",
    "  ]\n",
    "\n",
    "schema = [\"employee_name\",\"department\",\"state\",\"salary\",\"age\",\"bonus\"]\n",
    "df = spark.createDataFrame(data=simpleData, schema = schema)\n",
    "df.show(truncate=False)"
   ]
  },
  {
   "cell_type": "code",
   "execution_count": 57,
   "id": "ca537a41",
   "metadata": {},
   "outputs": [
    {
     "name": "stdout",
     "output_type": "stream",
     "text": [
      "+----------+-----+\n",
      "|department|count|\n",
      "+----------+-----+\n",
      "|     Sales|    3|\n",
      "|   Finance|    4|\n",
      "| Marketing|    2|\n",
      "+----------+-----+\n",
      "\n"
     ]
    }
   ],
   "source": [
    "# groupBy\n",
    "\n",
    "df.groupBy(\"department\").count().show()"
   ]
  },
  {
   "cell_type": "code",
   "execution_count": 58,
   "id": "47d0ad65",
   "metadata": {},
   "outputs": [
    {
     "name": "stdout",
     "output_type": "stream",
     "text": [
      "+----------+-----------+\n",
      "|department|sum(salary)|\n",
      "+----------+-----------+\n",
      "|     Sales|     257000|\n",
      "|   Finance|     351000|\n",
      "| Marketing|     171000|\n",
      "+----------+-----------+\n",
      "\n"
     ]
    }
   ],
   "source": [
    "df.groupBy(\"department\").sum(\"salary\").show()"
   ]
  },
  {
   "cell_type": "code",
   "execution_count": 59,
   "id": "e91140c0",
   "metadata": {},
   "outputs": [
    {
     "name": "stdout",
     "output_type": "stream",
     "text": [
      "+----------+-----------+\n",
      "|department|min(salary)|\n",
      "+----------+-----------+\n",
      "|     Sales|      81000|\n",
      "|   Finance|      79000|\n",
      "| Marketing|      80000|\n",
      "+----------+-----------+\n",
      "\n"
     ]
    }
   ],
   "source": [
    "df.groupBy(\"department\").min(\"salary\").show() "
   ]
  },
  {
   "cell_type": "code",
   "execution_count": 60,
   "id": "c0abd3f0",
   "metadata": {},
   "outputs": [
    {
     "name": "stdout",
     "output_type": "stream",
     "text": [
      "+----------+-----------+\n",
      "|department|max(salary)|\n",
      "+----------+-----------+\n",
      "|     Sales|      90000|\n",
      "|   Finance|      99000|\n",
      "| Marketing|      91000|\n",
      "+----------+-----------+\n",
      "\n"
     ]
    }
   ],
   "source": [
    "df.groupBy(\"department\").max(\"salary\").show() "
   ]
  },
  {
   "cell_type": "code",
   "execution_count": 61,
   "id": "ae3051ae",
   "metadata": {},
   "outputs": [
    {
     "name": "stdout",
     "output_type": "stream",
     "text": [
      "+----------+-----------------+\n",
      "|department|      avg(salary)|\n",
      "+----------+-----------------+\n",
      "|     Sales|85666.66666666667|\n",
      "|   Finance|          87750.0|\n",
      "| Marketing|          85500.0|\n",
      "+----------+-----------------+\n",
      "\n"
     ]
    }
   ],
   "source": [
    "df.groupBy(\"department\").avg(\"salary\").show() "
   ]
  },
  {
   "cell_type": "code",
   "execution_count": 65,
   "id": "b587d58a",
   "metadata": {},
   "outputs": [
    {
     "name": "stdout",
     "output_type": "stream",
     "text": [
      "+----------+----------+-----------------+---------+---------+\n",
      "|department|sum_salary|       avg_salary|sum_bonus|max_bonus|\n",
      "+----------+----------+-----------------+---------+---------+\n",
      "|     Sales|    257000|85666.66666666667|    53000|    23000|\n",
      "|   Finance|    351000|          87750.0|    81000|    24000|\n",
      "| Marketing|    171000|          85500.0|    39000|    21000|\n",
      "+----------+----------+-----------------+---------+---------+\n",
      "\n"
     ]
    }
   ],
   "source": [
    "# Pandas와 같이 .agg 사용 가능\n",
    "\n",
    "df.groupBy(\"department\").agg(\n",
    "    F.sum(\"salary\").alias(\"sum_salary\")\n",
    "    , F.avg(\"salary\").alias(\"avg_salary\")\n",
    "    , F.sum(\"bonus\").alias(\"sum_bonus\")\n",
    "    , F.max(\"bonus\").alias(\"max_bonus\")\n",
    ").show()"
   ]
  },
  {
   "cell_type": "code",
   "execution_count": 66,
   "id": "50824048",
   "metadata": {},
   "outputs": [
    {
     "name": "stdout",
     "output_type": "stream",
     "text": [
      "+----------+-----+-----------+----------+\n",
      "|department|state|sum(salary)|sum(bonus)|\n",
      "+----------+-----+-----------+----------+\n",
      "|   Finance|   NY|     162000|     34000|\n",
      "| Marketing|   NY|      91000|     21000|\n",
      "|     Sales|   CA|      81000|     23000|\n",
      "| Marketing|   CA|      80000|     18000|\n",
      "|   Finance|   CA|     189000|     47000|\n",
      "|     Sales|   NY|     176000|     30000|\n",
      "+----------+-----+-----------+----------+\n",
      "\n"
     ]
    }
   ],
   "source": [
    "# 여러 컬럼 집계 가능\n",
    "\n",
    "df.groupBy(\"department\",\"state\").sum(\"salary\",\"bonus\").show()"
   ]
  },
  {
   "cell_type": "code",
   "execution_count": 69,
   "id": "12beede9",
   "metadata": {},
   "outputs": [
    {
     "name": "stdout",
     "output_type": "stream",
     "text": [
      "+-------------+----------+-----+------+---+-----+\n",
      "|employee_name|department|state|salary|age|bonus|\n",
      "+-------------+----------+-----+------+---+-----+\n",
      "|        Raman|   Finance|   CA| 99000| 40|24000|\n",
      "|        Maria|   Finance|   CA| 90000| 24|23000|\n",
      "|       Robert|     Sales|   CA| 81000| 30|23000|\n",
      "|         Jeff| Marketing|   CA| 80000| 25|18000|\n",
      "|        Kumar| Marketing|   NY| 91000| 50|21000|\n",
      "|        James|     Sales|   NY| 90000| 34|10000|\n",
      "|      Michael|     Sales|   NY| 86000| 56|20000|\n",
      "|        Scott|   Finance|   NY| 83000| 36|19000|\n",
      "|          Jen|   Finance|   NY| 79000| 53|15000|\n",
      "+-------------+----------+-----+------+---+-----+\n",
      "\n"
     ]
    }
   ],
   "source": [
    "# orderBy\n",
    "df.orderBy(F.asc(\"state\"), F.desc(\"salary\")).show()"
   ]
  },
  {
   "cell_type": "code",
   "execution_count": 70,
   "id": "9c7d20ed",
   "metadata": {},
   "outputs": [
    {
     "name": "stdout",
     "output_type": "stream",
     "text": [
      "+------+--------+---------------+-----------+-----------+------+------+\n",
      "|emp_id|name    |superior_emp_id|year_joined|emp_dept_id|gender|salary|\n",
      "+------+--------+---------------+-----------+-----------+------+------+\n",
      "|1     |Smith   |-1             |2018       |10         |M     |3000  |\n",
      "|2     |Rose    |1              |2010       |20         |M     |4000  |\n",
      "|3     |Williams|1              |2010       |10         |M     |1000  |\n",
      "|4     |Jones   |2              |2005       |10         |F     |2000  |\n",
      "|5     |Brown   |2              |2010       |40         |      |-1    |\n",
      "|6     |Brown   |2              |2010       |50         |      |-1    |\n",
      "+------+--------+---------------+-----------+-----------+------+------+\n",
      "\n",
      "+---------+-------+\n",
      "|dept_name|dept_id|\n",
      "+---------+-------+\n",
      "|Finance  |10     |\n",
      "|Marketing|20     |\n",
      "|Sales    |30     |\n",
      "|IT       |40     |\n",
      "+---------+-------+\n",
      "\n"
     ]
    }
   ],
   "source": [
    "# JOIN\n",
    "\n",
    "emp = [(1,\"Smith\",-1,\"2018\",\"10\",\"M\",3000),\n",
    "       (2,\"Rose\",1,\"2010\",\"20\",\"M\",4000),\n",
    "       (3,\"Williams\",1,\"2010\",\"10\",\"M\",1000),\n",
    "       (4,\"Jones\",2,\"2005\",\"10\",\"F\",2000),\n",
    "       (5,\"Brown\",2,\"2010\",\"40\",\"\",-1),\n",
    "       (6,\"Brown\",2,\"2010\",\"50\",\"\",-1)]\n",
    "\n",
    "empColumns = [\"emp_id\", \"name\", \"superior_emp_id\", \"year_joined\",\n",
    "              \"emp_dept_id\", \"gender\", \"salary\"]\n",
    "\n",
    "empDF = spark.createDataFrame(data=emp, schema = empColumns)\n",
    "empDF.show(truncate=False)\n",
    "\n",
    "dept = [(\"Finance\",10),\n",
    "        (\"Marketing\",20),\n",
    "        (\"Sales\",30),\n",
    "        (\"IT\",40)]\n",
    "\n",
    "deptColumns = [\"dept_name\", \"dept_id\"]\n",
    "\n",
    "deptDF = spark.createDataFrame(data=dept, schema = deptColumns)\n",
    "deptDF.show(truncate=False)"
   ]
  },
  {
   "cell_type": "code",
   "execution_count": 71,
   "id": "13afdd5d",
   "metadata": {},
   "outputs": [
    {
     "name": "stdout",
     "output_type": "stream",
     "text": [
      "+------+--------+---------------+-----------+-----------+------+------+---------+-------+\n",
      "|emp_id|    name|superior_emp_id|year_joined|emp_dept_id|gender|salary|dept_name|dept_id|\n",
      "+------+--------+---------------+-----------+-----------+------+------+---------+-------+\n",
      "|     1|   Smith|             -1|       2018|         10|     M|  3000|  Finance|     10|\n",
      "|     3|Williams|              1|       2010|         10|     M|  1000|  Finance|     10|\n",
      "|     4|   Jones|              2|       2005|         10|     F|  2000|  Finance|     10|\n",
      "|     2|    Rose|              1|       2010|         20|     M|  4000|Marketing|     20|\n",
      "|     5|   Brown|              2|       2010|         40|      |    -1|       IT|     40|\n",
      "+------+--------+---------------+-----------+-----------+------+------+---------+-------+\n",
      "\n"
     ]
    }
   ],
   "source": [
    "# INNER JOIN\n",
    "empDF.join(deptDF, empDF.emp_dept_id == deptDF.dept_id).show()"
   ]
  },
  {
   "cell_type": "code",
   "execution_count": 72,
   "id": "405eac71",
   "metadata": {},
   "outputs": [
    {
     "name": "stdout",
     "output_type": "stream",
     "text": [
      "+------+--------+---------------+-----------+-----------+------+------+---------+-------+\n",
      "|emp_id|    name|superior_emp_id|year_joined|emp_dept_id|gender|salary|dept_name|dept_id|\n",
      "+------+--------+---------------+-----------+-----------+------+------+---------+-------+\n",
      "|     6|   Brown|              2|       2010|         50|      |    -1|     null|   null|\n",
      "|     1|   Smith|             -1|       2018|         10|     M|  3000|  Finance|     10|\n",
      "|     3|Williams|              1|       2010|         10|     M|  1000|  Finance|     10|\n",
      "|     4|   Jones|              2|       2005|         10|     F|  2000|  Finance|     10|\n",
      "|  null|    null|           null|       null|       null|  null|  null|    Sales|     30|\n",
      "|     2|    Rose|              1|       2010|         20|     M|  4000|Marketing|     20|\n",
      "|     5|   Brown|              2|       2010|         40|      |    -1|       IT|     40|\n",
      "+------+--------+---------------+-----------+-----------+------+------+---------+-------+\n",
      "\n"
     ]
    }
   ],
   "source": [
    "# FULL JOIN\n",
    "empDF.join(deptDF, empDF.emp_dept_id == deptDF.dept_id, how = \"full\").show()"
   ]
  },
  {
   "cell_type": "code",
   "execution_count": 73,
   "id": "7e24baa5",
   "metadata": {},
   "outputs": [
    {
     "name": "stdout",
     "output_type": "stream",
     "text": [
      "+------+--------+---------------+-----------+-----------+------+------+---------+-------+\n",
      "|emp_id|    name|superior_emp_id|year_joined|emp_dept_id|gender|salary|dept_name|dept_id|\n",
      "+------+--------+---------------+-----------+-----------+------+------+---------+-------+\n",
      "|     6|   Brown|              2|       2010|         50|      |    -1|     null|   null|\n",
      "|     1|   Smith|             -1|       2018|         10|     M|  3000|  Finance|     10|\n",
      "|     3|Williams|              1|       2010|         10|     M|  1000|  Finance|     10|\n",
      "|     4|   Jones|              2|       2005|         10|     F|  2000|  Finance|     10|\n",
      "|     2|    Rose|              1|       2010|         20|     M|  4000|Marketing|     20|\n",
      "|     5|   Brown|              2|       2010|         40|      |    -1|       IT|     40|\n",
      "+------+--------+---------------+-----------+-----------+------+------+---------+-------+\n",
      "\n"
     ]
    }
   ],
   "source": [
    "# LEFT JOIN\n",
    "empDF.join(deptDF, empDF.emp_dept_id == deptDF.dept_id, how = \"left\").show()"
   ]
  },
  {
   "cell_type": "code",
   "execution_count": 74,
   "id": "66980053",
   "metadata": {},
   "outputs": [
    {
     "name": "stdout",
     "output_type": "stream",
     "text": [
      "+------+--------+---------------+-----------+-----------+------+------+---------+-------+\n",
      "|emp_id|    name|superior_emp_id|year_joined|emp_dept_id|gender|salary|dept_name|dept_id|\n",
      "+------+--------+---------------+-----------+-----------+------+------+---------+-------+\n",
      "|     1|   Smith|             -1|       2018|         10|     M|  3000|  Finance|     10|\n",
      "|     3|Williams|              1|       2010|         10|     M|  1000|  Finance|     10|\n",
      "|     4|   Jones|              2|       2005|         10|     F|  2000|  Finance|     10|\n",
      "|  null|    null|           null|       null|       null|  null|  null|    Sales|     30|\n",
      "|     2|    Rose|              1|       2010|         20|     M|  4000|Marketing|     20|\n",
      "|     5|   Brown|              2|       2010|         40|      |    -1|       IT|     40|\n",
      "+------+--------+---------------+-----------+-----------+------+------+---------+-------+\n",
      "\n"
     ]
    }
   ],
   "source": [
    "# RIGHT JOIN\n",
    "empDF.join(deptDF, empDF.emp_dept_id == deptDF.dept_id, how = \"right\").show()"
   ]
  },
  {
   "cell_type": "code",
   "execution_count": 75,
   "id": "12453c60",
   "metadata": {},
   "outputs": [
    {
     "name": "stdout",
     "output_type": "stream",
     "text": [
      "+-------+------+--------+---------------+-----------+------+------+---------+\n",
      "|dept_id|emp_id|name    |superior_emp_id|year_joined|gender|salary|dept_name|\n",
      "+-------+------+--------+---------------+-----------+------+------+---------+\n",
      "|10     |1     |Smith   |-1             |2018       |M     |3000  |Finance  |\n",
      "|10     |3     |Williams|1              |2010       |M     |1000  |Finance  |\n",
      "|10     |4     |Jones   |2              |2005       |F     |2000  |Finance  |\n",
      "|20     |2     |Rose    |1              |2010       |M     |4000  |Marketing|\n",
      "|40     |5     |Brown   |2              |2010       |      |-1    |IT       |\n",
      "+-------+------+--------+---------------+-----------+------+------+---------+\n",
      "\n"
     ]
    }
   ],
   "source": [
    "# withColumnRenamed로 emp_dept_id의 컬럼명을 변경한 후 on을 활용해 JOIN\n",
    "empDF.withColumnRenamed(\"emp_dept_id\", \"dept_id\").join(deptDF, on = 'dept_id').show(truncate=False)"
   ]
  },
  {
   "cell_type": "code",
   "execution_count": 76,
   "id": "62db125f",
   "metadata": {},
   "outputs": [
    {
     "name": "stdout",
     "output_type": "stream",
     "text": [
      "+------+-----+---------------+-----------+-----------+------+------+\n",
      "|emp_id| name|superior_emp_id|year_joined|emp_dept_id|gender|salary|\n",
      "+------+-----+---------------+-----------+-----------+------+------+\n",
      "|     6|Brown|              2|       2010|         50|      |    -1|\n",
      "+------+-----+---------------+-----------+-----------+------+------+\n",
      "\n"
     ]
    }
   ],
   "source": [
    "# 오른쪽 테이블의 dept_id가 NULL인 데이터를 출력 : left_anti\n",
    "empDF.join(deptDF, empDF.emp_dept_id == deptDF.dept_id, how = \"left_anti\").show()\n",
    "\n",
    "# SELECT *\n",
    "# FROM empDF A \n",
    "# LEFT JOIN deptDF B ON A.emp_dept_id = B.dept_id \n",
    "# WHERE B.dept_id IS NULL"
   ]
  },
  {
   "cell_type": "code",
   "execution_count": 77,
   "id": "884d002a",
   "metadata": {},
   "outputs": [
    {
     "name": "stdout",
     "output_type": "stream",
     "text": [
      "+-------+-------+---+\n",
      "|   name|   dept|age|\n",
      "+-------+-------+---+\n",
      "|  James|  Sales| 34|\n",
      "|Michael|  Sales| 56|\n",
      "| Robert|  Sales| 30|\n",
      "|  Maria|Finance| 24|\n",
      "+-------+-------+---+\n",
      "\n",
      "+-----+---------+-----+------+\n",
      "| name|     dept|state|salary|\n",
      "+-----+---------+-----+------+\n",
      "|James|    Sales|   NY|  9000|\n",
      "|Maria|  Finance|   CA|  9000|\n",
      "|  Jen|  Finance|   NY|  7900|\n",
      "| Jeff|Marketing|   CA|  8000|\n",
      "+-----+---------+-----+------+\n",
      "\n"
     ]
    }
   ],
   "source": [
    "data = [(\"James\",\"Sales\",34),\n",
    "        (\"Michael\",\"Sales\",56),\n",
    "        (\"Robert\",\"Sales\",30),\n",
    "        (\"Maria\",\"Finance\",24) ]\n",
    "\n",
    "columns= [\"name\", \"dept\", \"age\"]\n",
    "\n",
    "df1 = spark.createDataFrame(data = data, schema = columns)\n",
    "df1.show()\n",
    "\n",
    "\n",
    "data2=[(\"James\",\"Sales\",\"NY\",9000),\n",
    "       (\"Maria\",\"Finance\",\"CA\",9000),\n",
    "       (\"Jen\",\"Finance\",\"NY\",7900),\n",
    "       (\"Jeff\",\"Marketing\",\"CA\",8000)]\n",
    "\n",
    "columns2= [\"name\", \"dept\", \"state\", \"salary\"]\n",
    "\n",
    "df2 = spark.createDataFrame(data = data2, schema = columns2)\n",
    "df2.show()"
   ]
  },
  {
   "cell_type": "code",
   "execution_count": 79,
   "id": "eca9f649",
   "metadata": {},
   "outputs": [
    {
     "name": "stdout",
     "output_type": "stream",
     "text": [
      "+-------+-------+---+-----+------+\n",
      "|   name|   dept|age|state|salary|\n",
      "+-------+-------+---+-----+------+\n",
      "|  James|  Sales| 34| null|  null|\n",
      "|Michael|  Sales| 56| null|  null|\n",
      "| Robert|  Sales| 30| null|  null|\n",
      "|  Maria|Finance| 24| null|  null|\n",
      "+-------+-------+---+-----+------+\n",
      "\n",
      "+-----+---------+-----+------+----+\n",
      "| name|     dept|state|salary| age|\n",
      "+-----+---------+-----+------+----+\n",
      "|James|    Sales|   NY|  9000|null|\n",
      "|Maria|  Finance|   CA|  9000|null|\n",
      "|  Jen|  Finance|   NY|  7900|null|\n",
      "| Jeff|Marketing|   CA|  8000|null|\n",
      "+-----+---------+-----+------+----+\n",
      "\n"
     ]
    }
   ],
   "source": [
    "# UNION\n",
    "# 컬럼의 개수 및 순서를 동일하게 해야함\n",
    "# Spark의 UNION은 SQL과 달리 DISTINCT 한 행만 UNION 하지 않고 중복된 행을 허용 = UNION ALL\n",
    "\n",
    "# UNION을 위한 컬럼 생성\n",
    "for column in [column for column in df2.columns if column not in df1.columns]:\n",
    "    df1 = df1.withColumn(column, F.lit(None))\n",
    "\n",
    "for column in [column for column in df1.columns if column not in df2.columns]:\n",
    "    df2 = df2.withColumn(column, F.lit(None))\n",
    "    \n",
    "df1.show()\n",
    "df2.show()"
   ]
  },
  {
   "cell_type": "code",
   "execution_count": 80,
   "id": "4f34dc6b",
   "metadata": {},
   "outputs": [
    {
     "name": "stdout",
     "output_type": "stream",
     "text": [
      "+-------+---------+---+-----+------+\n",
      "|   name|     dept|age|state|salary|\n",
      "+-------+---------+---+-----+------+\n",
      "|  James|    Sales| 34| null|  null|\n",
      "|Michael|    Sales| 56| null|  null|\n",
      "| Robert|    Sales| 30| null|  null|\n",
      "|  Maria|  Finance| 24| null|  null|\n",
      "|  James|    Sales| NY| 9000|  null|\n",
      "|  Maria|  Finance| CA| 9000|  null|\n",
      "|    Jen|  Finance| NY| 7900|  null|\n",
      "|   Jeff|Marketing| CA| 8000|  null|\n",
      "+-------+---------+---+-----+------+\n",
      "\n"
     ]
    }
   ],
   "source": [
    "# 순서 조정 X\n",
    "df1.union(df2).show()"
   ]
  },
  {
   "cell_type": "code",
   "execution_count": 81,
   "id": "b9563cee",
   "metadata": {},
   "outputs": [
    {
     "name": "stdout",
     "output_type": "stream",
     "text": [
      "+-------+---------+-----+------+----+\n",
      "|   name|     dept|state|salary| age|\n",
      "+-------+---------+-----+------+----+\n",
      "|  James|    Sales| null|  null|  34|\n",
      "|Michael|    Sales| null|  null|  56|\n",
      "| Robert|    Sales| null|  null|  30|\n",
      "|  Maria|  Finance| null|  null|  24|\n",
      "|  James|    Sales|   NY|  9000|null|\n",
      "|  Maria|  Finance|   CA|  9000|null|\n",
      "|    Jen|  Finance|   NY|  7900|null|\n",
      "|   Jeff|Marketing|   CA|  8000|null|\n",
      "+-------+---------+-----+------+----+\n",
      "\n"
     ]
    }
   ],
   "source": [
    "# 순서 조정\n",
    "df1.select(\"name\",\"dept\",\"state\",\"salary\",\"age\").union(df2).show()"
   ]
  },
  {
   "cell_type": "code",
   "execution_count": 82,
   "id": "9a9c771e",
   "metadata": {},
   "outputs": [
    {
     "name": "stdout",
     "output_type": "stream",
     "text": [
      "+-------+---------+----+-----+------+\n",
      "|   name|     dept| age|state|salary|\n",
      "+-------+---------+----+-----+------+\n",
      "|  James|    Sales|  34| null|  null|\n",
      "|Michael|    Sales|  56| null|  null|\n",
      "| Robert|    Sales|  30| null|  null|\n",
      "|  Maria|  Finance|  24| null|  null|\n",
      "|  James|    Sales|null|   NY|  9000|\n",
      "|  Maria|  Finance|null|   CA|  9000|\n",
      "|    Jen|  Finance|null|   NY|  7900|\n",
      "|   Jeff|Marketing|null|   CA|  8000|\n",
      "+-------+---------+----+-----+------+\n",
      "\n"
     ]
    }
   ],
   "source": [
    "# unionByName을 활용한 순서 조정\n",
    "df1.unionByName(df2).show()"
   ]
  },
  {
   "cell_type": "code",
   "execution_count": 83,
   "id": "79d4037c",
   "metadata": {},
   "outputs": [
    {
     "name": "stdout",
     "output_type": "stream",
     "text": [
      "+-------+------+-------+\n",
      "|Product|Amount|Country|\n",
      "+-------+------+-------+\n",
      "|Banana |1000  |USA    |\n",
      "|Carrots|1500  |USA    |\n",
      "|Beans  |1600  |USA    |\n",
      "|Orange |2000  |USA    |\n",
      "|Orange |2000  |USA    |\n",
      "|Banana |400   |China  |\n",
      "|Carrots|1200  |China  |\n",
      "|Beans  |1500  |China  |\n",
      "|Orange |4000  |China  |\n",
      "|Banana |2000  |Canada |\n",
      "|Carrots|2000  |Canada |\n",
      "|Beans  |2000  |Mexico |\n",
      "+-------+------+-------+\n",
      "\n"
     ]
    }
   ],
   "source": [
    "data = [(\"Banana\",1000,\"USA\"),\n",
    "        (\"Carrots\",1500,\"USA\"),\n",
    "        (\"Beans\",1600,\"USA\"),\n",
    "        (\"Orange\",2000,\"USA\"),\n",
    "        (\"Orange\",2000,\"USA\"),\n",
    "        (\"Banana\",400,\"China\"),\n",
    "        (\"Carrots\",1200,\"China\"),\n",
    "        (\"Beans\",1500,\"China\"),\n",
    "        (\"Orange\",4000,\"China\"),\n",
    "        (\"Banana\",2000,\"Canada\"),\n",
    "        (\"Carrots\",2000,\"Canada\"),\n",
    "        (\"Beans\",2000,\"Mexico\")]\n",
    "\n",
    "columns= [\"Product\", \"Amount\", \"Country\"]\n",
    "\n",
    "df = spark.createDataFrame(data = data, schema = columns)\n",
    "df.show(truncate=False)"
   ]
  },
  {
   "cell_type": "code",
   "execution_count": 84,
   "id": "c4ea1fc8",
   "metadata": {},
   "outputs": [
    {
     "name": "stdout",
     "output_type": "stream",
     "text": [
      "+-------+------+-----+------+----+\n",
      "|Product|Canada|China|Mexico|USA |\n",
      "+-------+------+-----+------+----+\n",
      "|Orange |null  |4000 |null  |4000|\n",
      "|Beans  |null  |1500 |2000  |1600|\n",
      "|Banana |2000  |400  |null  |1000|\n",
      "|Carrots|2000  |1200 |null  |1500|\n",
      "+-------+------+-----+------+----+\n",
      "\n"
     ]
    }
   ],
   "source": [
    "# PIVOT\n",
    "\n",
    "df.groupBy(\"Product\").pivot(\"Country\").sum(\"Amount\").show(truncate=False)\n",
    "\n",
    "# Product별 Country별 Amount 합계"
   ]
  },
  {
   "cell_type": "code",
   "execution_count": 93,
   "id": "43fd9e12",
   "metadata": {},
   "outputs": [
    {
     "name": "stdout",
     "output_type": "stream",
     "text": [
      "+-------+------+-----+------+----+\n",
      "|Product|Canada|China|Mexico|USA |\n",
      "+-------+------+-----+------+----+\n",
      "|Orange |null  |4000 |null  |4000|\n",
      "|Beans  |null  |1500 |2000  |1600|\n",
      "|Banana |2000  |400  |null  |1000|\n",
      "|Carrots|2000  |1200 |null  |1500|\n",
      "+-------+------+-----+------+----+\n",
      "\n",
      "Processing Time : 5.07438588142395\n"
     ]
    }
   ],
   "source": [
    "import time\n",
    "\n",
    "start_time = time.time()\n",
    "\n",
    "df.groupBy(\"Product\").pivot(\"Country\").sum(\"Amount\").show(truncate=False)\n",
    "\n",
    "end_time = time.time()\n",
    "\n",
    "print(f'Processing Time : {end_time - start_time}')"
   ]
  },
  {
   "cell_type": "code",
   "execution_count": 94,
   "id": "620ae75e",
   "metadata": {},
   "outputs": [
    {
     "name": "stdout",
     "output_type": "stream",
     "text": [
      "+-------+----+-----+------+------+\n",
      "|Product|USA |China|Canada|Mexico|\n",
      "+-------+----+-----+------+------+\n",
      "|Orange |4000|4000 |null  |null  |\n",
      "|Beans  |1600|1500 |null  |2000  |\n",
      "|Banana |1000|400  |2000  |null  |\n",
      "|Carrots|1500|1200 |2000  |null  |\n",
      "+-------+----+-----+------+------+\n",
      "\n",
      "Processing Time : 3.3013641834259033\n"
     ]
    }
   ],
   "source": [
    "# 가벼운 연산으로 계산 : pivot 컬럼 명시\n",
    "countries = [\"USA\",\"China\",\"Canada\",\"Mexico\"]\n",
    "\n",
    "start_time = time.time()\n",
    "\n",
    "df.groupBy(\"Product\").pivot(\"Country\", countries).sum(\"Amount\").show(truncate=False)\n",
    "\n",
    "end_time = time.time()\n",
    "\n",
    "print(f'Processing Time : {end_time - start_time}')"
   ]
  },
  {
   "cell_type": "code",
   "execution_count": 95,
   "id": "6f4152b8",
   "metadata": {},
   "outputs": [
    {
     "name": "stdout",
     "output_type": "stream",
     "text": [
      "+-------+-------+-----+\n",
      "|Product|Country|Total|\n",
      "+-------+-------+-----+\n",
      "| Banana|    USA| 1000|\n",
      "| Banana| Canada| 2000|\n",
      "| Banana|  China|  400|\n",
      "|  Beans|    USA| 1600|\n",
      "|  Beans|  China| 1500|\n",
      "|  Beans| Mexico| 2000|\n",
      "|Carrots|    USA| 1500|\n",
      "|Carrots| Canada| 2000|\n",
      "|Carrots|  China| 1200|\n",
      "| Orange|    USA| 4000|\n",
      "| Orange|  China| 4000|\n",
      "+-------+-------+-----+\n",
      "\n"
     ]
    }
   ],
   "source": [
    "# UNPIVOT : expr 표현식을 활용하여 변형 가능\n",
    "\n",
    "unpivotExpr = \"stack(4,'USA',USA,'Canada',Canada,'China',China,'Mexico',Mexico) as (Country, Total)\"\n",
    "\n",
    "unPivotDF = pivotDF.select(\"Product\", F.expr(unpivotExpr)).filter(\"total is not null\").orderBy(\"Product\")\n",
    "unPivotDF.show()"
   ]
  },
  {
   "cell_type": "code",
   "execution_count": 97,
   "id": "87f1d893",
   "metadata": {},
   "outputs": [
    {
     "name": "stdout",
     "output_type": "stream",
     "text": [
      "+-------+------+-------+-------+\n",
      "|Product|Amount|Country|row_num|\n",
      "+-------+------+-------+-------+\n",
      "| Orange|  4000|  China|      1|\n",
      "| Orange|  2000|    USA|      2|\n",
      "| Orange|  2000|    USA|      3|\n",
      "|  Beans|  2000| Mexico|      1|\n",
      "|  Beans|  1600|    USA|      2|\n",
      "|  Beans|  1500|  China|      3|\n",
      "| Banana|  2000| Canada|      1|\n",
      "| Banana|  1000|    USA|      2|\n",
      "| Banana|   400|  China|      3|\n",
      "|Carrots|  2000| Canada|      1|\n",
      "|Carrots|  1500|    USA|      2|\n",
      "|Carrots|  1200|  China|      3|\n",
      "+-------+------+-------+-------+\n",
      "\n"
     ]
    }
   ],
   "source": [
    "# row_number()\n",
    "\n",
    "from pyspark.sql.window import Window \n",
    "\n",
    "df.withColumn('row_num', F.row_number().over(Window.partitionBy('Product').orderBy(F.desc('Amount')))).show()"
   ]
  },
  {
   "cell_type": "code",
   "execution_count": null,
   "id": "5e200999",
   "metadata": {},
   "outputs": [],
   "source": []
  }
 ],
 "metadata": {
  "kernelspec": {
   "display_name": "venv1",
   "language": "python",
   "name": "venv"
  },
  "language_info": {
   "codemirror_mode": {
    "name": "ipython",
    "version": 3
   },
   "file_extension": ".py",
   "mimetype": "text/x-python",
   "name": "python",
   "nbconvert_exporter": "python",
   "pygments_lexer": "ipython3",
   "version": "3.7.9"
  }
 },
 "nbformat": 4,
 "nbformat_minor": 5
}
